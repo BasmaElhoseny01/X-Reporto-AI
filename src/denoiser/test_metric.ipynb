{
 "cells": [
  {
   "cell_type": "code",
   "execution_count": 6,
   "metadata": {},
   "outputs": [
    {
     "name": "stdout",
     "output_type": "stream",
     "text": [
      "255 0\n",
      "255 0\n",
      "(512, 512) (512, 512)\n",
      "0.6707127831260873\n"
     ]
    }
   ],
   "source": [
    "import cv2\n",
    "import os\n",
    "import numpy as np\n",
    "from skimage.metrics import structural_similarity as compare_ssim\n",
    "\n",
    "def evaluate():\n",
    "    # Read result and label images\n",
    "    pred = cv2.imread(\"E:/Graduation Project/Graduation-Project-Repo/tomogan-itrOut/pred_0.png\", cv2.IMREAD_GRAYSCALE)\n",
    "    actual = cv2.imread(\"E:/Graduation Project/Graduation-Project-Repo/tomogan-itrOut/gtruth_0.png\", cv2.IMREAD_GRAYSCALE)\n",
    "    print(np.max(pred), np.min(pred))\n",
    "    print(np.max(actual), np.min(actual))\n",
    "    print(actual.shape, pred.shape)    \n",
    "    # Compute Jaccard Index\n",
    "    ssim = compare_ssim(actual, pred, data_range=255, full=True)[0]  \n",
    "    print(ssim)\n",
    "evaluate()    "
   ]
  }
 ],
 "metadata": {
  "kernelspec": {
   "display_name": "Python 3",
   "language": "python",
   "name": "python3"
  },
  "language_info": {
   "codemirror_mode": {
    "name": "ipython",
    "version": 3
   },
   "file_extension": ".py",
   "mimetype": "text/x-python",
   "name": "python",
   "nbconvert_exporter": "python",
   "pygments_lexer": "ipython3",
   "version": "3.11.4"
  }
 },
 "nbformat": 4,
 "nbformat_minor": 2
}
