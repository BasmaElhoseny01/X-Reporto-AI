{
 "cells": [
  {
   "cell_type": "code",
   "execution_count": 1,
   "metadata": {},
   "outputs": [],
   "source": [
    "import pandas as pd\n",
    "\n",
    "# Load the CSV file into a DataFrame\n",
    "df = pd.read_csv('../datasets/heat_map.csv')\n",
    "\n",
    "# Split the DataFrame into two parts\n",
    "df_part1 = df.iloc[:1288]  # From the beginning to row 1288\n",
    "df_part2 = df.iloc[1288:]  # From row 1289 to the end\n",
    "\n",
    "# Save the two parts into separate CSV files\n",
    "df_part1.to_csv('../datasets/heat_map_train.csv', index=False)\n",
    "df_part2.to_csv('../datasets/heat_map_val.csv', index=False)\n"
   ]
  }
 ],
 "metadata": {
  "kernelspec": {
   "display_name": "Python 3",
   "language": "python",
   "name": "python3"
  },
  "language_info": {
   "codemirror_mode": {
    "name": "ipython",
    "version": 3
   },
   "file_extension": ".py",
   "mimetype": "text/x-python",
   "name": "python",
   "nbconvert_exporter": "python",
   "pygments_lexer": "ipython3",
   "version": "3.10.9"
  }
 },
 "nbformat": 4,
 "nbformat_minor": 2
}
