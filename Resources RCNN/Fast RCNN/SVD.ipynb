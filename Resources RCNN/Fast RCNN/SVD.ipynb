{
 "cells": [
  {
   "cell_type": "code",
   "execution_count": 1,
   "metadata": {},
   "outputs": [],
   "source": [
    "import torch"
   ]
  },
  {
   "cell_type": "code",
   "execution_count": 3,
   "metadata": {},
   "outputs": [
    {
     "data": {
      "text/plain": [
       "tensor([[ 0.,  1.,  2.],\n",
       "        [ 3.,  4.,  5.],\n",
       "        [ 6.,  7.,  8.],\n",
       "        [ 9., 10., 11.]])"
      ]
     },
     "execution_count": 3,
     "metadata": {},
     "output_type": "execute_result"
    }
   ],
   "source": [
    "W= torch.arange(12,dtype=torch.float32).reshape(4,3)\n",
    "W"
   ]
  },
  {
   "cell_type": "markdown",
   "metadata": {},
   "source": [
    "### SVD"
   ]
  },
  {
   "cell_type": "code",
   "execution_count": 4,
   "metadata": {},
   "outputs": [],
   "source": [
    "# W(mxn)=U(mxn)*S(nXn)*V.T(nXn)\n",
    "# W(4x3)=U(4x3)*S(3X3)*V.T(3X3)\n",
    "U,S,V=torch.svd(W)\n"
   ]
  },
  {
   "cell_type": "code",
   "execution_count": 5,
   "metadata": {},
   "outputs": [
    {
     "data": {
      "text/plain": [
       "tensor([[-0.0835,  0.8325,  0.5319],\n",
       "        [-0.3137,  0.4490, -0.8066],\n",
       "        [-0.5438,  0.0656,  0.0176],\n",
       "        [-0.7739, -0.3179,  0.2571]])"
      ]
     },
     "execution_count": 5,
     "metadata": {},
     "output_type": "execute_result"
    }
   ],
   "source": [
    "U"
   ]
  },
  {
   "cell_type": "code",
   "execution_count": 7,
   "metadata": {},
   "outputs": [
    {
     "name": "stdout",
     "output_type": "stream",
     "text": [
      "tensor([2.2447e+01, 1.4641e+00, 5.6755e-07])\n",
      "tensor([[2.2447e+01, 0.0000e+00, 0.0000e+00],\n",
      "        [0.0000e+00, 1.4641e+00, 0.0000e+00],\n",
      "        [0.0000e+00, 0.0000e+00, 5.6755e-07]])\n"
     ]
    }
   ],
   "source": [
    "print(S)\n",
    "print(torch.diag(S))\n"
   ]
  },
  {
   "cell_type": "code",
   "execution_count": 10,
   "metadata": {},
   "outputs": [
    {
     "data": {
      "text/plain": [
       "tensor([[-0.4976, -0.7653, -0.4082],\n",
       "        [-0.5740, -0.0624,  0.8165],\n",
       "        [-0.6504,  0.6406, -0.4082]])"
      ]
     },
     "execution_count": 10,
     "metadata": {},
     "output_type": "execute_result"
    }
   ],
   "source": [
    "V"
   ]
  },
  {
   "cell_type": "code",
   "execution_count": 12,
   "metadata": {},
   "outputs": [
    {
     "data": {
      "text/plain": [
       "tensor([[5.5576e-08, 1.0000e+00, 2.0000e+00],\n",
       "        [3.0000e+00, 4.0000e+00, 5.0000e+00],\n",
       "        [6.0000e+00, 7.0000e+00, 8.0000e+00],\n",
       "        [9.0000e+00, 1.0000e+01, 1.1000e+01]])"
      ]
     },
     "execution_count": 12,
     "metadata": {},
     "output_type": "execute_result"
    }
   ],
   "source": [
    "U @ torch.diag(S) @ V.t()"
   ]
  },
  {
   "cell_type": "markdown",
   "metadata": {},
   "source": [
    "### Truncated SVD"
   ]
  },
  {
   "cell_type": "code",
   "execution_count": 19,
   "metadata": {},
   "outputs": [
    {
     "name": "stdout",
     "output_type": "stream",
     "text": [
      "tensor([[2.2447e+01, 0.0000e+00, 0.0000e+00],\n",
      "        [0.0000e+00, 1.4641e+00, 0.0000e+00],\n",
      "        [0.0000e+00, 0.0000e+00, 5.6755e-07]])\n"
     ]
    },
    {
     "data": {
      "text/plain": [
       "tensor([22.4467,  1.4641])"
      ]
     },
     "execution_count": 19,
     "metadata": {},
     "output_type": "execute_result"
    }
   ],
   "source": [
    "print(torch.diag(S))\n",
    "# S last value is very small so we will truncate it\n",
    "# Rem that values of the diagonal decreases as we go right  ===> less important so we can truncate them\n",
    "St=S[:2]\n",
    "St"
   ]
  },
  {
   "cell_type": "code",
   "execution_count": 16,
   "metadata": {},
   "outputs": [
    {
     "name": "stdout",
     "output_type": "stream",
     "text": [
      "tensor([[22.4467,  0.0000],\n",
      "        [ 0.0000,  1.4641]])\n"
     ]
    },
    {
     "data": {
      "text/plain": [
       "tensor([[22.4467,  0.0000,  0.0000],\n",
       "        [ 0.0000,  1.4641,  0.0000],\n",
       "        [ 0.0000,  0.0000,  0.0000]])"
      ]
     },
     "execution_count": 16,
     "metadata": {},
     "output_type": "execute_result"
    }
   ],
   "source": [
    "St_diag=torch.diag(St)\n",
    "print(St_diag)\n",
    "\n",
    "# It is now of size 2 we need to to be 3*3 so pad by zeros\n",
    "import torch.nn.functional as F\n",
    "St_diag = F.pad(St_diag,(0,1,0,1),mode='constant',value=0)\n",
    "St_diag"
   ]
  },
  {
   "cell_type": "code",
   "execution_count": 17,
   "metadata": {},
   "outputs": [
    {
     "data": {
      "text/plain": [
       "tensor([[1.7881e-07, 1.0000e+00, 2.0000e+00],\n",
       "        [3.0000e+00, 4.0000e+00, 5.0000e+00],\n",
       "        [6.0000e+00, 7.0000e+00, 8.0000e+00],\n",
       "        [9.0000e+00, 1.0000e+01, 1.1000e+01]])"
      ]
     },
     "execution_count": 17,
     "metadata": {},
     "output_type": "execute_result"
    }
   ],
   "source": [
    "U@St_diag@V.t()"
   ]
  },
  {
   "cell_type": "markdown",
   "metadata": {},
   "source": [
    "Very Small approximateion but fatser if there are thousands of rows and columns"
   ]
  }
 ],
 "metadata": {
  "kernelspec": {
   "display_name": "Python 3",
   "language": "python",
   "name": "python3"
  },
  "language_info": {
   "codemirror_mode": {
    "name": "ipython",
    "version": 3
   },
   "file_extension": ".py",
   "mimetype": "text/x-python",
   "name": "python",
   "nbconvert_exporter": "python",
   "pygments_lexer": "ipython3",
   "version": "3.10.9"
  }
 },
 "nbformat": 4,
 "nbformat_minor": 2
}
