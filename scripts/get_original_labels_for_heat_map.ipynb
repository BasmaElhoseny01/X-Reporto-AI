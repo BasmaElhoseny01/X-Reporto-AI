{
 "cells": [
  {
   "cell_type": "code",
   "execution_count": 24,
   "metadata": {},
   "outputs": [],
   "source": [
    "import pandas as pd"
   ]
  },
  {
   "cell_type": "code",
   "execution_count": 14,
   "metadata": {},
   "outputs": [
    {
     "name": "stdout",
     "output_type": "stream",
     "text": [
      "12228\n",
      "Index(['subject_id', 'study_id', 'Atelectasis', 'Cardiomegaly',\n",
      "       'Consolidation', 'Edema', 'Enlarged Cardiomediastinum', 'Fracture',\n",
      "       'Lung Lesion', 'Lung Opacity', 'No Finding', 'Pleural Effusion',\n",
      "       'Pleural Other', 'Pneumonia', 'Pneumothorax', 'Support Devices',\n",
      "       'image_id', 'mimic_image_file_path'],\n",
      "      dtype='object')\n"
     ]
    }
   ],
   "source": [
    "# Read val.csv (unbalanced)\n",
    "# Read csv Unbalanced file (From Server DATA)[DON'T WRITE Read ONLY🏮🏮🏮)]\n",
    "original_df = pd.read_csv('../datasets/data_server/heat_map_val.csv')\n",
    "\n",
    "\n",
    "print(len(original_df))\n",
    "\n",
    "# printer column names\n",
    "print(original_df.columns)"
   ]
  },
  {
   "cell_type": "markdown",
   "metadata": {},
   "source": [
    "### Best"
   ]
  },
  {
   "cell_type": "code",
   "execution_count": 22,
   "metadata": {},
   "outputs": [],
   "source": [
    "# Read Filtered (They are filtered on balanced)\n",
    "filtered_df = pd.read_csv('../heat_map_results/New Folder/heat_map_val_balanced_index_filtered_best.csv')\n",
    "# print(len(filtered_df))\n",
    "\n",
    "# # printer column names\n",
    "# print(filtered_df.columns)\n",
    "# print(filtered_df,)"
   ]
  },
  {
   "cell_type": "code",
   "execution_count": 21,
   "metadata": {},
   "outputs": [
    {
     "name": "stdout",
     "output_type": "stream",
     "text": [
      "20\n"
     ]
    }
   ],
   "source": [
    "# Filter original_df with filtered_df\n",
    "original_filtered_df =original_df[original_df['image_id'].isin(filtered_df['image_id'])]\n",
    "\n",
    "print(len(original_filtered_df))\n",
    "# print(original_filtered_df)"
   ]
  },
  {
   "cell_type": "code",
   "execution_count": 23,
   "metadata": {},
   "outputs": [],
   "source": [
    "# Save\n",
    "original_filtered_df.to_csv('../heat_map_results/New Folder/heat_map_val_balanced_index_filtered_best[un_balanced].csv', index=False)"
   ]
  },
  {
   "cell_type": "markdown",
   "metadata": {},
   "source": [
    "### Worst"
   ]
  },
  {
   "cell_type": "code",
   "execution_count": 25,
   "metadata": {},
   "outputs": [],
   "source": [
    "# Read Filtered (They are filtered on balanced)\n",
    "filtered_df = pd.read_csv('../heat_map_results/New Folder/heat_map_val_balanced_index_filtered_worst.csv')\n",
    "# print(len(filtered_df))\n",
    "\n",
    "# # printer column names\n",
    "# print(filtered_df.columns)\n",
    "# print(filtered_df,)"
   ]
  },
  {
   "cell_type": "code",
   "execution_count": 26,
   "metadata": {},
   "outputs": [
    {
     "name": "stdout",
     "output_type": "stream",
     "text": [
      "20\n"
     ]
    }
   ],
   "source": [
    "# Filter original_df with filtered_df\n",
    "original_filtered_df =original_df[original_df['image_id'].isin(filtered_df['image_id'])]\n",
    "\n",
    "print(len(original_filtered_df))\n",
    "# print(original_filtered_df)"
   ]
  },
  {
   "cell_type": "code",
   "execution_count": 27,
   "metadata": {},
   "outputs": [],
   "source": [
    "# Save\n",
    "original_filtered_df.to_csv('../heat_map_results/New Folder/heat_map_val_balanced_index_filtered_worst[un_balanced].csv', index=False)"
   ]
  }
 ],
 "metadata": {
  "kernelspec": {
   "display_name": "Python 3",
   "language": "python",
   "name": "python3"
  },
  "language_info": {
   "codemirror_mode": {
    "name": "ipython",
    "version": 3
   },
   "file_extension": ".py",
   "mimetype": "text/x-python",
   "name": "python",
   "nbconvert_exporter": "python",
   "pygments_lexer": "ipython3",
   "version": "3.10.9"
  }
 },
 "nbformat": 4,
 "nbformat_minor": 2
}
