{
 "cells": [
  {
   "cell_type": "code",
   "execution_count": 1,
   "metadata": {},
   "outputs": [],
   "source": [
    "import cv2\n",
    "import numpy as np\n",
    "import torch\n",
    "import torchvision"
   ]
  },
  {
   "cell_type": "code",
   "execution_count": 4,
   "metadata": {},
   "outputs": [],
   "source": [
    "coco_names = ['__background__', 'person', 'bicycle', 'car', 'motorcycle', 'airplane', \\\n",
    "              'bus', 'train', 'truck', 'boat', 'traffic light', 'fire hydrant', 'N/A', \n",
    "              'stop sign', 'parking meter', 'bench', 'bird', 'cat', 'dog', 'horse', 'sheep', \n",
    "              'cow', 'elephant', 'bear', 'zebra', 'giraffe', 'N/A', 'backpack', 'umbrella',\n",
    "              'N/A', 'N/A', 'handbag', 'tie', 'suitcase', 'frisbee', 'skis', 'snowboard',\n",
    "              'sports ball', 'kite', 'baseball bat', 'baseball glove', 'skateboard',\n",
    "              'surfboard', 'tennis racket', 'bottle', 'N/A', 'wine glass', 'cup', 'fork',\n",
    "              'knife', 'spoon', 'bowl', 'banana', 'apple', 'sandwich', 'orange',\n",
    "              'broccoli', 'carrot', 'hot dog', 'pizza', 'donut', 'cake', 'chair', 'couch',\n",
    "              'potted plant', 'bed', 'N/A', 'dining table', 'N/A', 'N/A', 'toilet',\n",
    "              'N/A', 'tv', 'laptop', 'mouse', 'remote', 'keyboard', 'cell phone', 'microwave',\n",
    "              'oven', 'toaster', 'sink', 'refrigerator', 'N/A', 'book', 'clock', 'vase',\n",
    "              'scissors', 'teddy bear', 'hair drier', 'toothbrush']\n",
    "COLORS = np.random.uniform(0, 255, size=(len(coco_names), 3))"
   ]
  },
  {
   "cell_type": "code",
   "execution_count": 5,
   "metadata": {},
   "outputs": [
    {
     "ename": "IndexError",
     "evalue": "list index out of range",
     "output_type": "error",
     "traceback": [
      "\u001b[1;31m---------------------------------------------------------------------------\u001b[0m",
      "\u001b[1;31mIndexError\u001b[0m                                Traceback (most recent call last)",
      "Cell \u001b[1;32mIn[5], line 38\u001b[0m\n\u001b[0;32m     35\u001b[0m output \u001b[38;5;241m=\u001b[39m binary_classifier(input_data)\n\u001b[0;32m     37\u001b[0m \u001b[38;5;66;03m# Choose the layer whose activations you want to visualize (e.g., second hidden layer)\u001b[39;00m\n\u001b[1;32m---> 38\u001b[0m layer_activations \u001b[38;5;241m=\u001b[39m \u001b[43mactivations\u001b[49m\u001b[43m[\u001b[49m\u001b[38;5;241;43m2\u001b[39;49m\u001b[43m]\u001b[49m  \u001b[38;5;66;03m# Change index based on your requirement\u001b[39;00m\n\u001b[0;32m     40\u001b[0m \u001b[38;5;66;03m# Convert activations to numpy array\u001b[39;00m\n\u001b[0;32m     41\u001b[0m activation_np \u001b[38;5;241m=\u001b[39m layer_activations\u001b[38;5;241m.\u001b[39mdetach()\u001b[38;5;241m.\u001b[39mnumpy()\n",
      "\u001b[1;31mIndexError\u001b[0m: list index out of range"
     ]
    }
   ],
   "source": [
    "import torch\n",
    "import torch.nn as nn\n",
    "import matplotlib.pyplot as plt\n",
    "import numpy as np\n",
    "\n",
    "# Define input and output dimensions\n",
    "input_dim = 50  # Dimensionality of input data\n",
    "output_dim = 2  # Output dimension for binary classification (assuming 2 classes)\n",
    "\n",
    "# Generate random input data\n",
    "num_samples = 100  # Number of samples\n",
    "input_data = np.random.rand(num_samples, input_dim)\n",
    "\n",
    "# Convert input data to PyTorch tensor\n",
    "input_data = torch.tensor(input_data, dtype=torch.float32)\n",
    "\n",
    "# Binary classifier network definition\n",
    "binary_classifier = nn.Sequential(\n",
    "    nn.Linear(in_features=input_dim, out_features=512),\n",
    "    nn.ReLU(),\n",
    "    nn.Linear(in_features=512, out_features=128),\n",
    "    nn.ReLU(),\n",
    "    nn.Linear(in_features=128, out_features=output_dim)\n",
    ")\n",
    "\n",
    "# Forward pass to get activations\n",
    "activations = []\n",
    "def hook(module, input, output):\n",
    "    activations.append(output)\n",
    "\n",
    "# Register hook to record activations\n",
    "binary_classifier.register_forward_hook(hook)\n",
    "\n",
    "# Forward pass\n",
    "output = binary_classifier(input_data)\n",
    "\n",
    "# Choose the layer whose activations you want to visualize (e.g., second hidden layer)\n",
    "layer_activations = activations[1]  # Change index based on your requirement\n",
    "\n",
    "# Convert activations to numpy array\n",
    "activation_np = layer_activations.detach().numpy()\n",
    "\n",
    "# Generate heat map\n",
    "plt.imshow(activation_np, cmap='hot', interpolation='nearest')\n",
    "plt.colorbar()\n",
    "plt.show()\n"
   ]
  },
  {
   "cell_type": "code",
   "execution_count": 17,
   "metadata": {},
   "outputs": [
    {
     "name": "stdout",
     "output_type": "stream",
     "text": [
      "tensor([True, True, True, True, True, True, True, True, True, True, True, True,\n",
      "        True, True, True, True, True, True, True, True, True, True, True, True,\n",
      "        True, True, True, True, True])\n"
     ]
    },
    {
     "data": {
      "image/png": "[encoded data removed]",
      "text/plain": [
       "<Figure size 640x480 with 1 Axes>"
      ]
     },
     "metadata": {},
     "output_type": "display_data"
    }
   ],
   "source": [
    "import torch\n",
    "import torch.nn as nn\n",
    "import matplotlib.pyplot as plt\n",
    "import numpy as np\n",
    "\n",
    "# Define the binary classifier class\n",
    "class BinaryClassifierRegionAbnormalV1(nn.Module):\n",
    "    def __init__(self, input_dim=1024, output_dim=1):\n",
    "        super().__init__()\n",
    "\n",
    "        # Binary classifier network\n",
    "        self.binary_classifier = nn.Sequential(\n",
    "            nn.Linear(in_features=input_dim, out_features=512),\n",
    "            nn.ReLU(),\n",
    "            nn.Linear(in_features=512, out_features=128),\n",
    "            nn.ReLU(),\n",
    "            nn.Linear(in_features=128, out_features=output_dim)\n",
    "        )\n",
    "\n",
    "    def forward(self, region_features):\n",
    "        logits = self.binary_classifier(region_features).squeeze(dim=-1)\n",
    "        return logits\n",
    "\n",
    "# Generate synthetic data for demonstration\n",
    "num_regions = 29\n",
    "input_dim = 1024\n",
    "\n",
    "# Generate random features for regions\n",
    "region_features = torch.randn(num_regions, input_dim)\n",
    "\n",
    "# Initialize the binary classifier\n",
    "classifier = BinaryClassifierRegionAbnormalV1(input_dim=input_dim)\n",
    "\n",
    "# Forward pass through the binary classifier\n",
    "logits = classifier(region_features)\n",
    "predictions = torch.sigmoid(logits)\n",
    "\n",
    "# Apply thresholding to classify regions as abnormal or normal\n",
    "threshold = 0.5  # Adjust as needed\n",
    "abnormal_regions = (predictions > threshold)\n",
    "print(abnormal_regions)\n",
    "\n",
    "# Generate heat map for abnormal regions\n",
    "abnormal_indices = torch.nonzero(abnormal_regions).squeeze()\n",
    "heat_map_data = region_features[abnormal_indices]\n",
    "\n",
    "# Visualize heat map\n",
    "plt.imshow(heat_map_data.numpy(), cmap='hot', interpolation='nearest')\n",
    "# plt.colorbar()\n",
    "plt.show()\n"
   ]
  },
  {
   "cell_type": "code",
   "execution_count": null,
   "metadata": {},
   "outputs": [],
   "source": []
  }
 ],
 "metadata": {
  "kernelspec": {
   "display_name": "Python 3",
   "language": "python",
   "name": "python3"
  },
  "language_info": {
   "codemirror_mode": {
    "name": "ipython",
    "version": 3
   },
   "file_extension": ".py",
   "mimetype": "text/x-python",
   "name": "python",
   "nbconvert_exporter": "python",
   "pygments_lexer": "ipython3",
   "version": "3.10.9"
  }
 },
 "nbformat": 4,
 "nbformat_minor": 2
}
