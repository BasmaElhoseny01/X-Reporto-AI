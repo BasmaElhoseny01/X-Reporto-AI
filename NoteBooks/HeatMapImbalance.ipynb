{
 "cells": [
  {
   "cell_type": "code",
   "execution_count": 32,
   "metadata": {},
   "outputs": [],
   "source": [
    "import pandas as pd\n",
    "df = pd.read_csv('../datasets/mimic-cxr-2.0.0-chexpert.csv')  # Replace 'your_file.csv' with the path to your CSV file\n"
   ]
  },
  {
   "cell_type": "code",
   "execution_count": 33,
   "metadata": {},
   "outputs": [
    {
     "name": "stdout",
     "output_type": "stream",
     "text": [
      "Index(['subject_id', 'study_id', 'Atelectasis', 'Cardiomegaly',\n",
      "       'Consolidation', 'Edema', 'Enlarged Cardiomediastinum', 'Fracture',\n",
      "       'Lung Lesion', 'Lung Opacity', 'No Finding', 'Pleural Effusion',\n",
      "       'Pleural Other', 'Pneumonia', 'Pneumothorax', 'Support Devices'],\n",
      "      dtype='object')\n"
     ]
    }
   ],
   "source": [
    "print(df.columns)\n"
   ]
  },
  {
   "cell_type": "code",
   "execution_count": 34,
   "metadata": {},
   "outputs": [],
   "source": [
    "df = df.iloc[:, 2:]\n"
   ]
  },
  {
   "cell_type": "code",
   "execution_count": 35,
   "metadata": {},
   "outputs": [
    {
     "name": "stdout",
     "output_type": "stream",
     "text": [
      "Index(['Atelectasis', 'Cardiomegaly', 'Consolidation', 'Edema',\n",
      "       'Enlarged Cardiomediastinum', 'Fracture', 'Lung Lesion', 'Lung Opacity',\n",
      "       'No Finding', 'Pleural Effusion', 'Pleural Other', 'Pneumonia',\n",
      "       'Pneumothorax', 'Support Devices'],\n",
      "      dtype='object')\n"
     ]
    }
   ],
   "source": [
    "print(df.columns)"
   ]
  },
  {
   "cell_type": "code",
   "execution_count": 36,
   "metadata": {},
   "outputs": [
    {
     "name": "stdout",
     "output_type": "stream",
     "text": [
      "NaN counts per column:\n",
      "{'Atelectasis': 170161, 'Cardiomegaly': 161028, 'Consolidation': 204751, 'Edema': 161994, 'Enlarged Cardiomediastinum': 205990, 'Fracture': 221996, 'Lung Lesion': 219540, 'Lung Opacity': 169402, 'No Finding': 152372, 'Pleural Effusion': 140555, 'Pleural Other': 224925, 'Pneumonia': 168642, 'Pneumothorax': 173979, 'Support Devices': 157546}\n",
      "\n",
      "Counts of 0.0 per column:\n",
      "{'Atelectasis': 1531, 'Cardiomegaly': 15911, 'Consolidation': 7967, 'Edema': 25641, 'Enlarged Cardiomediastinum': 5283, 'Fracture': 886, 'Lung Lesion': 862, 'Lung Opacity': 3069, 'No Finding': 0, 'Pleural Effusion': 27158, 'Pleural Other': 126, 'Pneumonia': 24338, 'Pneumothorax': 42356, 'Support Devices': 3486}\n",
      "\n",
      "Counts of -1.0 per column:\n",
      "{'Atelectasis': 10327, 'Cardiomegaly': 6043, 'Consolidation': 4331, 'Edema': 13174, 'Enlarged Cardiomediastinum': 9375, 'Fracture': 555, 'Lung Lesion': 1141, 'Lung Opacity': 3831, 'No Finding': 0, 'Pleural Effusion': 5814, 'Pleural Other': 765, 'Pneumonia': 18291, 'Pneumothorax': 1134, 'Support Devices': 237}\n",
      "\n",
      "Counts of 1.0 per column:\n",
      "{'Atelectasis': 45808, 'Cardiomegaly': 44845, 'Consolidation': 10778, 'Edema': 27018, 'Enlarged Cardiomediastinum': 7179, 'Fracture': 4390, 'Lung Lesion': 6284, 'Lung Opacity': 51525, 'No Finding': 75455, 'Pleural Effusion': 54300, 'Pleural Other': 2011, 'Pneumonia': 16556, 'Pneumothorax': 10358, 'Support Devices': 66558}\n"
     ]
    }
   ],
   "source": [
    "\n",
    "# Initialize dictionaries to store counts\n",
    "nan_counts = {}\n",
    "zero_counts = {}\n",
    "negative_one_counts = {}\n",
    "one_counts = {}\n",
    "\n",
    "# Iterate over columns\n",
    "for col in df.columns:\n",
    "    # Count NaN values\n",
    "    nan_counts[col] = df[col].isna().sum()\n",
    "    \n",
    "    # Count occurrences of 0.0, -1.0, and 1.0\n",
    "    zero_counts[col] = (df[col] == 0.0).sum()\n",
    "    negative_one_counts[col] = (df[col] == -1.0).sum()\n",
    "    one_counts[col] = (df[col] == 1.0).sum()\n",
    "\n",
    "# Print counts\n",
    "print(\"NaN counts per column:\")\n",
    "print(nan_counts)\n",
    "print(\"\\nCounts of 0.0 per column:\")\n",
    "print(zero_counts)\n",
    "print(\"\\nCounts of -1.0 per column:\")\n",
    "print(negative_one_counts)\n",
    "print(\"\\nCounts of 1.0 per column:\")\n",
    "print(one_counts)"
   ]
  },
  {
   "cell_type": "code",
   "execution_count": 37,
   "metadata": {},
   "outputs": [
    {
     "name": "stdout",
     "output_type": "stream",
     "text": [
      "Summation of -1, 0, and NaN for each column:\n",
      "{'Atelectasis': 182019, 'Cardiomegaly': 182982, 'Consolidation': 217049, 'Edema': 200809, 'Enlarged Cardiomediastinum': 220648, 'Fracture': 223437, 'Lung Lesion': 221543, 'Lung Opacity': 176302, 'No Finding': 152372, 'Pleural Effusion': 173527, 'Pleural Other': 225816, 'Pneumonia': 211271, 'Pneumothorax': 217469, 'Support Devices': 161269}\n",
      "\n",
      "Summation of 1 for each column:\n",
      "{'Atelectasis': 45808, 'Cardiomegaly': 44845, 'Consolidation': 10778, 'Edema': 27018, 'Enlarged Cardiomediastinum': 7179, 'Fracture': 4390, 'Lung Lesion': 6284, 'Lung Opacity': 51525, 'No Finding': 75455, 'Pleural Effusion': 54300, 'Pleural Other': 2011, 'Pneumonia': 16556, 'Pneumothorax': 10358, 'Support Devices': 66558}\n",
      "key Atelectasis\n",
      "key Cardiomegaly\n",
      "key Consolidation\n",
      "key Edema\n",
      "key Enlarged Cardiomediastinum\n",
      "key Fracture\n",
      "key Lung Lesion\n",
      "key Lung Opacity\n",
      "key No Finding\n",
      "key Pleural Effusion\n",
      "key Pleural Other\n",
      "key Pneumonia\n",
      "key Pneumothorax\n",
      "key Support Devices\n",
      "{'Atelectasis': 0.7989351569392565, 'Cardiomegaly': 0.803162048396371, 'Consolidation': 0.9526921743252555, 'Edema': 0.8814100172499308, 'Enlarged Cardiomediastinum': 0.968489248420951, 'Fracture': 0.980730993253653, 'Lung Lesion': 0.9724176677917894, 'Lung Opacity': 0.7738415552151413, 'No Finding': 0.6688057166183112, 'Pleural Effusion': 0.7616612605178491, 'Pleural Other': 0.9911731269779263, 'Pneumonia': 0.9273308255825692, 'Pneumothorax': 0.9545356783875485, 'Support Devices': 0.7078572776712154}\n",
      "{'Atelectasis': 0.20106484306074346, 'Cardiomegaly': 0.19683795160362905, 'Consolidation': 0.04730782567474445, 'Edema': 0.11858998275006916, 'Enlarged Cardiomediastinum': 0.031510751579049034, 'Fracture': 0.019269006746347017, 'Lung Lesion': 0.027582332208210603, 'Lung Opacity': 0.2261584447848587, 'No Finding': 0.33119428338168877, 'Pleural Effusion': 0.2383387394821509, 'Pleural Other': 0.008826873022073745, 'Pneumonia': 0.07266917441743082, 'Pneumothorax': 0.04546432161245151, 'Support Devices': 0.2921427223287846}\n"
     ]
    }
   ],
   "source": [
    "\n",
    "# Initialize dictionaries to store summation counts\n",
    "negative_zero_nan_sum = {}\n",
    "one_sum = {}\n",
    "\n",
    "# Iterate over columns\n",
    "for col in df.columns:\n",
    "    # Calculate summation of -1, 0, and NaN\n",
    "    negative_zero_nan_sum[col] = df[col].isna().sum() + (df[col] == -1.0).sum() + (df[col] == 0.0).sum()\n",
    "    \n",
    "    # Calculate summation of 1\n",
    "    one_sum[col] = (df[col] == 1.0).sum()\n",
    "\n",
    "# Print summations\n",
    "print(\"Summation of -1, 0, and NaN for each column:\")\n",
    "print(negative_zero_nan_sum)\n",
    "print(\"\\nSummation of 1 for each column:\")\n",
    "print(one_sum)\n",
    "\n",
    "\n",
    "for key, _ in negative_zero_nan_sum.items():\n",
    "    print(\"key\",key)\n",
    "    negative_zero_nan_sum[key]=negative_zero_nan_sum[key]/(negative_zero_nan_sum[key]+one_sum[key])\n",
    "    one_sum[key]      =1-negative_zero_nan_sum[key]\n",
    "\n",
    "print(negative_zero_nan_sum)\n",
    "print(one_sum)"
   ]
  },
  {
   "cell_type": "code",
   "execution_count": 38,
   "metadata": {},
   "outputs": [
    {
     "name": "stdout",
     "output_type": "stream",
     "text": [
      "w_pos {'Atelectasis': 0.7989351569392565, 'Cardiomegaly': 0.803162048396371, 'Consolidation': 0.9526921743252555, 'Edema': 0.8814100172499308, 'Enlarged Cardiomediastinum': 0.968489248420951, 'Fracture': 0.980730993253653, 'Lung Lesion': 0.9724176677917894, 'Lung Opacity': 0.7738415552151413, 'No Finding': 0.6688057166183112, 'Pleural Effusion': 0.7616612605178491, 'Pleural Other': 0.9911731269779263, 'Pneumonia': 0.9273308255825692, 'Pneumothorax': 0.9545356783875485, 'Support Devices': 0.7078572776712154}\n",
      "w_neg {'Atelectasis': 0.20106484306074346, 'Cardiomegaly': 0.19683795160362905, 'Consolidation': 0.04730782567474445, 'Edema': 0.11858998275006916, 'Enlarged Cardiomediastinum': 0.031510751579049034, 'Fracture': 0.019269006746347017, 'Lung Lesion': 0.027582332208210603, 'Lung Opacity': 0.2261584447848587, 'No Finding': 0.33119428338168877, 'Pleural Effusion': 0.2383387394821509, 'Pleural Other': 0.008826873022073745, 'Pneumonia': 0.07266917441743082, 'Pneumothorax': 0.04546432161245151, 'Support Devices': 0.2921427223287846}\n"
     ]
    }
   ],
   "source": [
    "w_pos=negative_zero_nan_sum\n",
    "w_neg=one_sum\n",
    "print(\"w_pos\",w_pos)\n",
    "print(\"w_neg\",w_neg)"
   ]
  },
  {
   "cell_type": "code",
   "execution_count": 39,
   "metadata": {},
   "outputs": [
    {
     "name": "stdout",
     "output_type": "stream",
     "text": [
      "w_pos dict_values([0.7989351569392565, 0.803162048396371, 0.9526921743252555, 0.8814100172499308, 0.968489248420951, 0.980730993253653, 0.9724176677917894, 0.7738415552151413, 0.6688057166183112, 0.7616612605178491, 0.9911731269779263, 0.9273308255825692, 0.9545356783875485, 0.7078572776712154])\n",
      "w_pos 14\n"
     ]
    }
   ],
   "source": [
    "print(\"w_pos\",w_pos.values())\n",
    "print(\"w_pos\",len(w_pos.values()))\n"
   ]
  },
  {
   "cell_type": "code",
   "execution_count": 29,
   "metadata": {},
   "outputs": [
    {
     "name": "stdout",
     "output_type": "stream",
     "text": [
      "key Atelectasis\n",
      "key Cardiomegaly\n",
      "key Consolidation\n",
      "key Edema\n",
      "key Enlarged Cardiomediastinum\n",
      "key Fracture\n",
      "key Lung Lesion\n",
      "key Lung Opacity\n",
      "key No Finding\n",
      "key Pleural Effusion\n",
      "key Pleural Other\n",
      "key Pneumonia\n",
      "key Pneumothorax\n"
     ]
    }
   ],
   "source": [
    "for key,_ in negative_zero_nan_sum.items():\n",
    "    print(\"key\",key,)\n",
    "    if negative_zero_nan_sum[key]*w_neg[key] != one_sum[key]*w_pos[key]:\n",
    "        print(\"Error\")\n",
    "\n"
   ]
  },
  {
   "cell_type": "code",
   "execution_count": null,
   "metadata": {},
   "outputs": [],
   "source": []
  }
 ],
 "metadata": {
  "kernelspec": {
   "display_name": "Python 3",
   "language": "python",
   "name": "python3"
  },
  "language_info": {
   "codemirror_mode": {
    "name": "ipython",
    "version": 3
   },
   "file_extension": ".py",
   "mimetype": "text/x-python",
   "name": "python",
   "nbconvert_exporter": "python",
   "pygments_lexer": "ipython3",
   "version": "3.10.9"
  }
 },
 "nbformat": 4,
 "nbformat_minor": 2
}
