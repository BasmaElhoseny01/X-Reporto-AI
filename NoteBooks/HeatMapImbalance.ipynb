{
 "cells": [
  {
   "cell_type": "code",
   "execution_count": 40,
   "metadata": {},
   "outputs": [],
   "source": [
    "import pandas as pd\n",
    "df = pd.read_csv('../datasets/mimic-cxr-2.0.0-chexpert.csv')  # Replace 'your_file.csv' with the path to your CSV file\n"
   ]
  },
  {
   "cell_type": "code",
   "execution_count": 41,
   "metadata": {},
   "outputs": [
    {
     "name": "stdout",
     "output_type": "stream",
     "text": [
      "Index(['subject_id', 'study_id', 'Atelectasis', 'Cardiomegaly',\n",
      "       'Consolidation', 'Edema', 'Enlarged Cardiomediastinum', 'Fracture',\n",
      "       'Lung Lesion', 'Lung Opacity', 'No Finding', 'Pleural Effusion',\n",
      "       'Pleural Other', 'Pneumonia', 'Pneumothorax', 'Support Devices'],\n",
      "      dtype='object')\n"
     ]
    }
   ],
   "source": [
    "print(df.columns)\n"
   ]
  },
  {
   "cell_type": "code",
   "execution_count": 42,
   "metadata": {},
   "outputs": [],
   "source": [
    "df = df.iloc[:, 2:]\n"
   ]
  },
  {
   "cell_type": "code",
   "execution_count": 43,
   "metadata": {},
   "outputs": [
    {
     "name": "stdout",
     "output_type": "stream",
     "text": [
      "Index(['Atelectasis', 'Cardiomegaly', 'Consolidation', 'Edema',\n",
      "       'Enlarged Cardiomediastinum', 'Fracture', 'Lung Lesion', 'Lung Opacity',\n",
      "       'No Finding', 'Pleural Effusion', 'Pleural Other', 'Pneumonia',\n",
      "       'Pneumothorax', 'Support Devices'],\n",
      "      dtype='object')\n"
     ]
    }
   ],
   "source": [
    "print(df.columns)"
   ]
  },
  {
   "cell_type": "code",
   "execution_count": 44,
   "metadata": {},
   "outputs": [
    {
     "name": "stdout",
     "output_type": "stream",
     "text": [
      "NaN counts per column:\n",
      "{'Atelectasis': 170161, 'Cardiomegaly': 161028, 'Consolidation': 204751, 'Edema': 161994, 'Enlarged Cardiomediastinum': 205990, 'Fracture': 221996, 'Lung Lesion': 219540, 'Lung Opacity': 169402, 'No Finding': 152372, 'Pleural Effusion': 140555, 'Pleural Other': 224925, 'Pneumonia': 168642, 'Pneumothorax': 173979, 'Support Devices': 157546}\n",
      "\n",
      "Counts of 0.0 per column:\n",
      "{'Atelectasis': 1531, 'Cardiomegaly': 15911, 'Consolidation': 7967, 'Edema': 25641, 'Enlarged Cardiomediastinum': 5283, 'Fracture': 886, 'Lung Lesion': 862, 'Lung Opacity': 3069, 'No Finding': 0, 'Pleural Effusion': 27158, 'Pleural Other': 126, 'Pneumonia': 24338, 'Pneumothorax': 42356, 'Support Devices': 3486}\n",
      "\n",
      "Counts of -1.0 per column:\n",
      "{'Atelectasis': 10327, 'Cardiomegaly': 6043, 'Consolidation': 4331, 'Edema': 13174, 'Enlarged Cardiomediastinum': 9375, 'Fracture': 555, 'Lung Lesion': 1141, 'Lung Opacity': 3831, 'No Finding': 0, 'Pleural Effusion': 5814, 'Pleural Other': 765, 'Pneumonia': 18291, 'Pneumothorax': 1134, 'Support Devices': 237}\n",
      "\n",
      "Counts of 1.0 per column:\n",
      "{'Atelectasis': 45808, 'Cardiomegaly': 44845, 'Consolidation': 10778, 'Edema': 27018, 'Enlarged Cardiomediastinum': 7179, 'Fracture': 4390, 'Lung Lesion': 6284, 'Lung Opacity': 51525, 'No Finding': 75455, 'Pleural Effusion': 54300, 'Pleural Other': 2011, 'Pneumonia': 16556, 'Pneumothorax': 10358, 'Support Devices': 66558}\n"
     ]
    }
   ],
   "source": [
    "\n",
    "# Initialize dictionaries to store counts\n",
    "nan_counts = {}\n",
    "zero_counts = {}\n",
    "negative_one_counts = {}\n",
    "one_counts = {}\n",
    "\n",
    "# Iterate over columns\n",
    "for col in df.columns:\n",
    "    # Count NaN values\n",
    "    nan_counts[col] = df[col].isna().sum()\n",
    "    \n",
    "    # Count occurrences of 0.0, -1.0, and 1.0\n",
    "    zero_counts[col] = (df[col] == 0.0).sum()\n",
    "    negative_one_counts[col] = (df[col] == -1.0).sum()\n",
    "    one_counts[col] = (df[col] == 1.0).sum()\n",
    "\n",
    "# Print counts\n",
    "print(\"NaN counts per column:\")\n",
    "print(nan_counts)\n",
    "print(\"\\nCounts of 0.0 per column:\")\n",
    "print(zero_counts)\n",
    "print(\"\\nCounts of -1.0 per column:\")\n",
    "print(negative_one_counts)\n",
    "print(\"\\nCounts of 1.0 per column:\")\n",
    "print(one_counts)"
   ]
  },
  {
   "cell_type": "code",
   "execution_count": 45,
   "metadata": {},
   "outputs": [
    {
     "name": "stdout",
     "output_type": "stream",
     "text": [
      "Summation of -1, 0, and NaN for each column:\n",
      "{'Atelectasis': 171692, 'Cardiomegaly': 176939, 'Consolidation': 212718, 'Edema': 187635, 'Enlarged Cardiomediastinum': 211273, 'Fracture': 222882, 'Lung Lesion': 220402, 'Lung Opacity': 172471, 'No Finding': 152372, 'Pleural Effusion': 167713, 'Pleural Other': 225051, 'Pneumonia': 192980, 'Pneumothorax': 216335, 'Support Devices': 161032}\n",
      "\n",
      "Summation of 1 for each column:\n",
      "{'Atelectasis': 56135, 'Cardiomegaly': 50888, 'Consolidation': 15109, 'Edema': 40192, 'Enlarged Cardiomediastinum': 16554, 'Fracture': 4945, 'Lung Lesion': 7425, 'Lung Opacity': 55356, 'No Finding': 75455, 'Pleural Effusion': 60114, 'Pleural Other': 2776, 'Pneumonia': 34847, 'Pneumothorax': 11492, 'Support Devices': 66795}\n",
      "key Atelectasis\n",
      "key Cardiomegaly\n",
      "key Consolidation\n",
      "key Edema\n",
      "key Enlarged Cardiomediastinum\n",
      "key Fracture\n",
      "key Lung Lesion\n",
      "key Lung Opacity\n",
      "key No Finding\n",
      "key Pleural Effusion\n",
      "key Pleural Other\n",
      "key Pneumonia\n",
      "key Pneumothorax\n",
      "key Support Devices\n",
      "{'Atelectasis': 0.7536069034837838, 'Cardiomegaly': 0.7766375363762855, 'Consolidation': 0.9336821360067068, 'Edema': 0.8235854398293442, 'Enlarged Cardiomediastinum': 0.927339604173342, 'Fracture': 0.9782949343141946, 'Lung Lesion': 0.9674094817558937, 'Lung Opacity': 0.7570261645897984, 'No Finding': 0.6688057166183112, 'Pleural Effusion': 0.7361418971412519, 'Pleural Other': 0.9878153160073213, 'Pneumonia': 0.8470462236697143, 'Pneumothorax': 0.9495582174193576, 'Support Devices': 0.7068170146646359}\n",
      "{'Atelectasis': 0.24639309651621621, 'Cardiomegaly': 0.22336246362371448, 'Consolidation': 0.0663178639932932, 'Edema': 0.17641456017065582, 'Enlarged Cardiomediastinum': 0.07266039582665795, 'Fracture': 0.021705065685805436, 'Lung Lesion': 0.032590518244106303, 'Lung Opacity': 0.24297383541020157, 'No Finding': 0.33119428338168877, 'Pleural Effusion': 0.2638581028587481, 'Pleural Other': 0.012184683992678691, 'Pneumonia': 0.15295377633028573, 'Pneumothorax': 0.05044178258064236, 'Support Devices': 0.29318298533536413}\n"
     ]
    }
   ],
   "source": [
    "\n",
    "# Initialize dictionaries to store summation counts\n",
    "negative_zero_nan_sum = {}\n",
    "one_sum = {}\n",
    "\n",
    "# Iterate over columns\n",
    "for col in df.columns:\n",
    "    # Calculate summation of -1, 0, and NaN\n",
    "    negative_zero_nan_sum[col] = df[col].isna().sum()  + (df[col] == 0.0).sum()\n",
    "    \n",
    "    # Calculate summation of 1\n",
    "    one_sum[col] = (df[col] == 1.0).sum() +(df[col] == -1.0).sum()\n",
    "\n",
    "# Print summations\n",
    "print(\"Summation of -1, 0, and NaN for each column:\")\n",
    "print(negative_zero_nan_sum)\n",
    "print(\"\\nSummation of 1 for each column:\")\n",
    "print(one_sum)\n",
    "\n",
    "\n",
    "for key, _ in negative_zero_nan_sum.items():\n",
    "    print(\"key\",key)\n",
    "    negative_zero_nan_sum[key]=negative_zero_nan_sum[key]/(negative_zero_nan_sum[key]+one_sum[key])\n",
    "    one_sum[key]      =1-negative_zero_nan_sum[key]\n",
    "\n",
    "print(negative_zero_nan_sum)\n",
    "print(one_sum)"
   ]
  },
  {
   "cell_type": "code",
   "execution_count": 46,
   "metadata": {},
   "outputs": [
    {
     "name": "stdout",
     "output_type": "stream",
     "text": [
      "w_pos {'Atelectasis': 0.7536069034837838, 'Cardiomegaly': 0.7766375363762855, 'Consolidation': 0.9336821360067068, 'Edema': 0.8235854398293442, 'Enlarged Cardiomediastinum': 0.927339604173342, 'Fracture': 0.9782949343141946, 'Lung Lesion': 0.9674094817558937, 'Lung Opacity': 0.7570261645897984, 'No Finding': 0.6688057166183112, 'Pleural Effusion': 0.7361418971412519, 'Pleural Other': 0.9878153160073213, 'Pneumonia': 0.8470462236697143, 'Pneumothorax': 0.9495582174193576, 'Support Devices': 0.7068170146646359}\n",
      "w_neg {'Atelectasis': 0.24639309651621621, 'Cardiomegaly': 0.22336246362371448, 'Consolidation': 0.0663178639932932, 'Edema': 0.17641456017065582, 'Enlarged Cardiomediastinum': 0.07266039582665795, 'Fracture': 0.021705065685805436, 'Lung Lesion': 0.032590518244106303, 'Lung Opacity': 0.24297383541020157, 'No Finding': 0.33119428338168877, 'Pleural Effusion': 0.2638581028587481, 'Pleural Other': 0.012184683992678691, 'Pneumonia': 0.15295377633028573, 'Pneumothorax': 0.05044178258064236, 'Support Devices': 0.29318298533536413}\n"
     ]
    }
   ],
   "source": [
    "w_pos=negative_zero_nan_sum\n",
    "w_neg=one_sum\n",
    "print(\"w_pos\",w_pos)\n",
    "print(\"w_neg\",w_neg)"
   ]
  },
  {
   "cell_type": "code",
   "execution_count": 49,
   "metadata": {},
   "outputs": [
    {
     "name": "stdout",
     "output_type": "stream",
     "text": [
      "w_pos dict_values([0.7536069034837838, 0.7766375363762855, 0.9336821360067068, 0.8235854398293442, 0.927339604173342, 0.9782949343141946, 0.9674094817558937, 0.7570261645897984, 0.6688057166183112, 0.7361418971412519, 0.9878153160073213, 0.8470462236697143, 0.9495582174193576, 0.7068170146646359])\n",
      "w_pos 14\n"
     ]
    }
   ],
   "source": [
    "print(\"w_pos\",w_pos.values())\n",
    "print(\"w_pos\",len(w_pos.values()))\n"
   ]
  },
  {
   "cell_type": "code",
   "execution_count": 48,
   "metadata": {},
   "outputs": [
    {
     "name": "stdout",
     "output_type": "stream",
     "text": [
      "key Atelectasis\n",
      "key Cardiomegaly\n",
      "key Consolidation\n",
      "key Edema\n",
      "key Enlarged Cardiomediastinum\n",
      "key Fracture\n",
      "key Lung Lesion\n",
      "key Lung Opacity\n",
      "key No Finding\n",
      "key Pleural Effusion\n",
      "key Pleural Other\n",
      "key Pneumonia\n",
      "key Pneumothorax\n",
      "key Support Devices\n"
     ]
    }
   ],
   "source": [
    "for key,_ in negative_zero_nan_sum.items():\n",
    "    print(\"key\",key,)\n",
    "    if negative_zero_nan_sum[key]*w_neg[key] != one_sum[key]*w_pos[key]:\n",
    "        print(\"Error\")\n",
    "\n"
   ]
  },
  {
   "cell_type": "code",
   "execution_count": null,
   "metadata": {},
   "outputs": [],
   "source": []
  }
 ],
 "metadata": {
  "kernelspec": {
   "display_name": "Python 3",
   "language": "python",
   "name": "python3"
  },
  "language_info": {
   "codemirror_mode": {
    "name": "ipython",
    "version": 3
   },
   "file_extension": ".py",
   "mimetype": "text/x-python",
   "name": "python",
   "nbconvert_exporter": "python",
   "pygments_lexer": "ipython3",
   "version": "3.10.9"
  }
 },
 "nbformat": 4,
 "nbformat_minor": 2
}
